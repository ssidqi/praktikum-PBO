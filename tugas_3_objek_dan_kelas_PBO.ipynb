{
  "nbformat": 4,
  "nbformat_minor": 0,
  "metadata": {
    "colab": {
      "provenance": [],
      "authorship_tag": "ABX9TyOHq1aXmw7zMHfJanw+PQXr",
      "include_colab_link": true
    },
    "kernelspec": {
      "name": "python3",
      "display_name": "Python 3"
    },
    "language_info": {
      "name": "python"
    }
  },
  "cells": [
    {
      "cell_type": "markdown",
      "metadata": {
        "id": "view-in-github",
        "colab_type": "text"
      },
      "source": [
        "<a href=\"https://colab.research.google.com/github/ssidqi/praktikum-PBO/blob/main/tugas_3_objek_dan_kelas_PBO.ipynb\" target=\"_parent\"><img src=\"https://colab.research.google.com/assets/colab-badge.svg\" alt=\"Open In Colab\"/></a>"
      ]
    },
    {
      "cell_type": "code",
      "execution_count": null,
      "metadata": {
        "colab": {
          "base_uri": "https://localhost:8080/"
        },
        "id": "bC9zGSI3qO49",
        "outputId": "e653e131-8c7b-4398-f306-388ac8885adb"
      },
      "outputs": [
        {
          "output_type": "stream",
          "name": "stdout",
          "text": [
            "budi details:\n",
            "rambut: ikal\n",
            "warna: hitam\n",
            "michael details:\n",
            "rambut: lurus\n",
            "warna: pirang\n"
          ]
        }
      ],
      "source": [
        "class  person:\n",
        "  def __init__ (self, rambut, warna):\n",
        "    self.rambut = rambut\n",
        "    self.warna = warna\n",
        "\n",
        "budi = person(\"ikal\", \"hitam\")\n",
        "michael = person (\"lurus\", \"pirang\")\n",
        "\n",
        "print('budi details:')\n",
        "print('rambut:', budi.rambut)\n",
        "print('warna:', budi.warna)\n",
        "\n",
        "print('michael details:')\n",
        "print('rambut:', michael.rambut)\n",
        "print('warna:', michael.warna)"
      ]
    }
  ]
}